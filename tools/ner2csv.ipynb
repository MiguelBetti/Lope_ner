{
 "cells": [
  {
   "cell_type": "code",
   "execution_count": 2,
   "metadata": {},
   "outputs": [
    {
     "name": "stdout",
     "output_type": "stream",
     "text": [
      "Requirement already satisfied: pandas in /Users/miguel/Library/Python/3.8/lib/python/site-packages (2.0.3)\n",
      "Requirement already satisfied: pytz>=2020.1 in /Users/miguel/Library/Python/3.8/lib/python/site-packages (from pandas) (2024.1)\n",
      "Requirement already satisfied: numpy>=1.20.3; python_version < \"3.10\" in /Users/miguel/Library/Python/3.8/lib/python/site-packages (from pandas) (1.24.4)\n",
      "Requirement already satisfied: tzdata>=2022.1 in /Users/miguel/Library/Python/3.8/lib/python/site-packages (from pandas) (2024.1)\n",
      "Requirement already satisfied: python-dateutil>=2.8.2 in /Users/miguel/Library/Python/3.8/lib/python/site-packages (from pandas) (2.9.0.post0)\n",
      "Requirement already satisfied: six>=1.5 in /Library/Developer/CommandLineTools/Library/Frameworks/Python3.framework/Versions/3.8/lib/python3.8/site-packages (from python-dateutil>=2.8.2->pandas) (1.15.0)\n",
      "\u001b[33mWARNING: You are using pip version 19.2.3, however version 24.0 is available.\n",
      "You should consider upgrading via the 'pip install --upgrade pip' command.\u001b[0m\n",
      "Data has been saved to LOPE_PLACES.csv\n"
     ]
    }
   ],
   "source": [
    "# Install pandas\n",
    "!python3 -m pip install pandas\n",
    "\n",
    "import os\n",
    "import pandas as pd\n",
    "from collections import Counter\n",
    "\n",
    "def extract_places(file_content):\n",
    "\n",
    "#Extracts places tagged with B-LOC and I-LOC from the file content.\n",
    "    \n",
    "    places = []\n",
    "    lines = file_content.splitlines()\n",
    "    current_place = []\n",
    "    for line in lines:\n",
    "        if line.strip():  # Ignore empty lines\n",
    "            parts = line.split()\n",
    "            if len(parts) > 1:\n",
    "                word = parts[0]\n",
    "                tag = parts[-1]\n",
    "                if tag == 'B-LOC':\n",
    "                    if current_place:\n",
    "                        places.append(\" \".join(current_place))\n",
    "                    current_place = [word]\n",
    "                elif tag == 'I-LOC' and current_place:\n",
    "                    current_place.append(word)\n",
    "                else:\n",
    "                    if current_place:\n",
    "                        places.append(\" \".join(current_place))\n",
    "                        current_place = []\n",
    "    if current_place:\n",
    "        places.append(\" \".join(current_place))\n",
    "    return places\n",
    "\n",
    "def process_files(directory):\n",
    "\n",
    "#Processes all .txt files in the given directory to extract places and their occurrences.\n",
    "\n",
    "    data = []\n",
    "\n",
    "    for filename in os.listdir(directory):\n",
    "        if filename.endswith(\".txt\"):\n",
    "            filepath = os.path.join(directory, filename)\n",
    "            with open(filepath, 'r', encoding='utf-8') as file:\n",
    "                file_content = file.read()\n",
    "            places = extract_places(file_content)\n",
    "            occurrences = Counter(places)\n",
    "            for place, count in occurrences.items():\n",
    "                data.append([filename, place, count])\n",
    "\n",
    "    return data\n",
    "\n",
    "def save_to_csv(data, output_file):\n",
    "\n",
    "#Saves the extracted data to a CSV file.\n",
    "\n",
    "    df = pd.DataFrame(data, columns=['Name', 'Place', 'Occurrences'])\n",
    "    df.to_csv(output_file, index=False)\n",
    "\n",
    "# Define the directory containing the text files and the output CSV file name\n",
    "directory = \"../corpus_out\"\n",
    "output_file = \"LOPE_PLACES.csv\"\n",
    "\n",
    "# Process the files and save the data to a CSV file\n",
    "data = process_files(directory)\n",
    "save_to_csv(data, output_file)\n",
    "\n",
    "print(f\"Data has been saved to {output_file}\")\n"
   ]
  },
  {
   "cell_type": "code",
   "execution_count": null,
   "metadata": {},
   "outputs": [],
   "source": []
  }
 ],
 "metadata": {
  "kernelspec": {
   "display_name": "Python 3",
   "language": "python",
   "name": "python3"
  },
  "language_info": {
   "codemirror_mode": {
    "name": "ipython",
    "version": 3
   },
   "file_extension": ".py",
   "mimetype": "text/x-python",
   "name": "python",
   "nbconvert_exporter": "python",
   "pygments_lexer": "ipython3",
   "version": "3.8.3"
  }
 },
 "nbformat": 4,
 "nbformat_minor": 4
}
