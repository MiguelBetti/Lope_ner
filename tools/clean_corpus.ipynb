{
 "cells": [
  {
   "cell_type": "code",
   "execution_count": 2,
   "metadata": {},
   "outputs": [
    {
     "name": "stdout",
     "output_type": "stream",
     "text": [
      "Cleaning process completed. Check the 'corpus_full_clean' directory for cleaned files.\n"
     ]
    }
   ],
   "source": [
    "import os\n",
    "import re\n",
    "\n",
    "# Define the directory paths\n",
    "input_dir = 'corpus_train'\n",
    "output_dir = 'corpus_train_clean'\n",
    "\n",
    "# Create the output directory if it does not exist\n",
    "os.makedirs(output_dir, exist_ok=True)\n",
    "\n",
    "# Define the regex patterns\n",
    "# Pattern to match words with more than one capital letter\n",
    "capital_word_pattern = re.compile(r'\\b[A-ZÁÉÍÓÚÑ]{2,}\\b')\n",
    "# Pattern to match lines with only numbers\n",
    "number_pattern = re.compile(r'^\\d+$')\n",
    "\n",
    "# Process each .txt file in the input directory\n",
    "for filename in os.listdir(input_dir):\n",
    "    if filename.endswith('.txt'):\n",
    "        # Construct full file path\n",
    "        input_file_path = os.path.join(input_dir, filename)\n",
    "        output_file_path = os.path.join(output_dir, filename)\n",
    "        \n",
    "        # Read the content of the file\n",
    "        with open(input_file_path, 'r', encoding='utf-8') as file:\n",
    "            lines = file.readlines()\n",
    "        \n",
    "        # Filter out lines that match the patterns\n",
    "        cleaned_lines = []\n",
    "        for line in lines:\n",
    "            stripped_line = line.strip()\n",
    "            # Check if the line contains a capital word or is a line with only numbers\n",
    "            if not capital_word_pattern.search(stripped_line) and not number_pattern.match(stripped_line):\n",
    "                cleaned_lines.append(line)\n",
    "        \n",
    "        # Write the cleaned lines to the new file in the output directory\n",
    "        with open(output_file_path, 'w', encoding='utf-8') as file:\n",
    "            file.writelines(cleaned_lines)\n",
    "\n",
    "print(\"Cleaning process completed. Check the 'corpus_full_clean' directory for cleaned files.\")\n"
   ]
  },
  {
   "cell_type": "code",
   "execution_count": null,
   "metadata": {},
   "outputs": [],
   "source": []
  }
 ],
 "metadata": {
  "kernelspec": {
   "display_name": "Python 3",
   "language": "python",
   "name": "python3"
  },
  "language_info": {
   "codemirror_mode": {
    "name": "ipython",
    "version": 3
   },
   "file_extension": ".py",
   "mimetype": "text/x-python",
   "name": "python",
   "nbconvert_exporter": "python",
   "pygments_lexer": "ipython3",
   "version": "3.8.3"
  }
 },
 "nbformat": 4,
 "nbformat_minor": 4
}
